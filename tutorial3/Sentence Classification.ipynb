{
 "cells": [
  {
   "cell_type": "markdown",
   "id": "38aee59e",
   "metadata": {},
   "source": [
    "Goal: To demonstrate the neural net architecture for code2seq"
   ]
  },
  {
   "cell_type": "code",
   "execution_count": 40,
   "id": "c7aff992",
   "metadata": {},
   "outputs": [],
   "source": [
    "import torch\n",
    "import torch.nn as nn\n",
    "import torch.optim as optim\n",
    "from torch.utils.data import DataLoader\n",
    "from torchtext.datasets import AmazonReviewFull\n",
    "\n",
    "import numpy as np\n",
    "import matplotlib.pylab as plt\n",
    "\n",
    "import pickle\n",
    "import os\n",
    "import operator"
   ]
  },
  {
   "cell_type": "markdown",
   "id": "8fa4c64e",
   "metadata": {},
   "source": [
    "### Dataset"
   ]
  },
  {
   "cell_type": "code",
   "execution_count": 2,
   "id": "a10e00fe",
   "metadata": {},
   "outputs": [],
   "source": [
    "dp_train = AmazonReviewFull(root='../', split='train')\n",
    "dp_test = AmazonReviewFull(root='../', split='test')"
   ]
  },
  {
   "cell_type": "code",
   "execution_count": 3,
   "id": "76ba626a",
   "metadata": {},
   "outputs": [],
   "source": [
    "batch_size = 64\n",
    "dl_train = DataLoader(dp_train, batch_size=batch_size)\n",
    "dl_test = DataLoader(dp_test, batch_size=batch_size)"
   ]
  },
  {
   "cell_type": "code",
   "execution_count": 12,
   "id": "f9d35ddf",
   "metadata": {},
   "outputs": [],
   "source": [
    "y, X = next(iter(dl_train)) #sample one batch of data"
   ]
  },
  {
   "cell_type": "code",
   "execution_count": 15,
   "id": "77d1c277",
   "metadata": {},
   "outputs": [
    {
     "name": "stdout",
     "output_type": "stream",
     "text": [
      "Errors, but great story I was a dissapointed to see errors on the back cover, but since I paid for the book I read it anyway. I have to say I love it. I couldn't put it down. I read the whole book in two hours. I say buy it. I say read it. It is sad, but it gives an interesting point of view on church today. We spend too much time looking at the faults of others. I also enjoyed beloved.Sincerly,Jaylynn R\n",
      "tensor(4)\n"
     ]
    }
   ],
   "source": [
    "print(X[7]) #review\n",
    "print(y[7]) #rating"
   ]
  },
  {
   "cell_type": "markdown",
   "id": "41fc85f7",
   "metadata": {},
   "source": [
    "### Vocabulary"
   ]
  },
  {
   "cell_type": "code",
   "execution_count": 24,
   "id": "44de7ce9",
   "metadata": {},
   "outputs": [
    {
     "data": {
      "text/plain": [
       "(array(['a', 'also', 'an', 'anyway', 'at', 'back', 'beloved', 'book',\n",
       "        'but', 'buy', 'church', \"couldn't\", 'cover', 'dissapointed',\n",
       "        'down', 'enjoyed', 'errors', 'faults', 'for', 'gives', 'great',\n",
       "        'have', 'hours', 'i', 'in', 'interesting', 'is', 'it', 'looking',\n",
       "        'love', 'much', 'of', 'on', 'others', 'paid', 'point', 'put', 'r',\n",
       "        'read', 'sad', 'say', 'see', 'since', 'sincerlyjaylynn', 'spend',\n",
       "        'story', 'the', 'time', 'to', 'today', 'too', 'two', 'view', 'was',\n",
       "        'we', 'whole'], dtype='<U15'),\n",
       " array([ 1,  1,  1,  1,  1,  1,  1,  2,  3,  1,  1,  1,  1,  1,  1,  1,  2,\n",
       "         1,  1,  1,  1,  1,  1, 10,  1,  1,  1,  7,  1,  1,  1,  2,  2,  1,\n",
       "         1,  1,  1,  1,  3,  1,  3,  1,  1,  1,  1,  1,  4,  1,  2,  1,  1,\n",
       "         1,  1,  1,  1,  1]))"
      ]
     },
     "execution_count": 24,
     "metadata": {},
     "output_type": "execute_result"
    }
   ],
   "source": [
    "#test processing of single sentence\n",
    "np.unique(np.concatenate([s.strip().replace(',','').split() for s in X[7].lower().split('.')]), return_counts=True)"
   ]
  },
  {
   "cell_type": "code",
   "execution_count": 25,
   "id": "b87f18e9",
   "metadata": {},
   "outputs": [
    {
     "name": "stderr",
     "output_type": "stream",
     "text": [
      "/home/sanjay/Downloads/venv_pytorch/lib64/python3.9/site-packages/torch/utils/data/datapipes/iter/combining.py:248: UserWarning: Some child DataPipes are not exhausted when __iter__ is called. We are resetting the buffer and each child DataPipe will read from the start again.\n",
      "  warnings.warn(\"Some child DataPipes are not exhausted when __iter__ is called. We are resetting \"\n"
     ]
    }
   ],
   "source": [
    "#build dictionary of word counts i.e. word -> occurrence count\n",
    "\n",
    "def get_counts(dl_train):\n",
    "    counts_dict = {}\n",
    "    for y, X_batch in dl_train: #loop over batch\n",
    "        #get unique words and counts from each sentence\n",
    "        for X in X_batch: #loop over sentences in batch\n",
    "            words, counts = np.unique(np.concatenate([s.strip().replace(',','').split() for s in X.lower().split('.')]), return_counts=True)\n",
    "\n",
    "            for idx, w in enumerate(words):\n",
    "                if w not in counts_dict:\n",
    "                    counts_dict[w] = 0\n",
    "\n",
    "                counts_dict[w] += counts[idx]\n",
    "    return counts_dict"
   ]
  },
  {
   "cell_type": "code",
   "execution_count": 38,
   "id": "f288bfdf",
   "metadata": {},
   "outputs": [
    {
     "name": "stdout",
     "output_type": "stream",
     "text": [
      "Reading pre-computed word counts...\n"
     ]
    }
   ],
   "source": [
    "if not os.path.exists('train_word_counts.pkl'):\n",
    "    print('Computing word counts...')\n",
    "    counts_dict = get_counts(dl_train)\n",
    "    pickle.dump(counts_dict, open('train_word_counts.pkl','wb'))\n",
    "else:\n",
    "    print('Reading pre-computed word counts...')\n",
    "    counts_dict = pickle.load(open('train_word_counts.pkl','rb'))"
   ]
  },
  {
   "cell_type": "code",
   "execution_count": 42,
   "id": "077c00a2",
   "metadata": {},
   "outputs": [],
   "source": [
    "#print entries with decreasing word counts\n",
    "counts_sorted = sorted(counts_dict.items(), key=operator.itemgetter(1), reverse=True)"
   ]
  },
  {
   "cell_type": "code",
   "execution_count": 43,
   "id": "4e730953",
   "metadata": {},
   "outputs": [
    {
     "data": {
      "text/plain": [
       "[<matplotlib.lines.Line2D at 0x7ff300084cd0>]"
      ]
     },
     "execution_count": 43,
     "metadata": {},
     "output_type": "execute_result"
    },
    {
     "data": {
      "image/png": "[encoded data removed]",
      "text/plain": [
       "<Figure size 432x288 with 1 Axes>"
      ]
     },
     "metadata": {
      "needs_background": "light"
     },
     "output_type": "display_data"
    }
   ],
   "source": [
    "plt.plot([s[1] for s in counts_sorted])"
   ]
  },
  {
   "cell_type": "code",
   "execution_count": 45,
   "id": "fe6f77af",
   "metadata": {},
   "outputs": [
    {
     "data": {
      "text/plain": [
       "[<matplotlib.lines.Line2D at 0x7ff3000172e0>]"
      ]
     },
     "execution_count": 45,
     "metadata": {},
     "output_type": "execute_result"
    },
    {
     "data": {
      "image/png": "[encoded data removed]",
      "text/plain": [
       "<Figure size 432x288 with 1 Axes>"
      ]
     },
     "metadata": {
      "needs_background": "light"
     },
     "output_type": "display_data"
    }
   ],
   "source": [
    "plt.plot([s[1] for s in counts_sorted[0:500]])"
   ]
  },
  {
   "cell_type": "code",
   "execution_count": 53,
   "id": "96fba60c",
   "metadata": {},
   "outputs": [
    {
     "data": {
      "text/plain": [
       "2323521"
      ]
     },
     "execution_count": 53,
     "metadata": {},
     "output_type": "execute_result"
    }
   ],
   "source": [
    "len(counts_sorted)"
   ]
  },
  {
   "cell_type": "code",
   "execution_count": 55,
   "id": "c70bdc2a",
   "metadata": {},
   "outputs": [
    {
     "name": "stdout",
     "output_type": "stream",
     "text": [
      "position from top, word, count\n",
      "1 ('and', 6300311)\n",
      "10 ('for', 2704868)\n",
      "100 ('am', 307976)\n",
      "1000 ('table', 22410)\n",
      "10000 ('goodwill', 1025)\n",
      "100000 ('waterfowl', 26)\n"
     ]
    }
   ],
   "source": [
    "print('position from top, word, count')\n",
    "for i in np.power(10, np.arange(6)):\n",
    "    print(i, counts_sorted[i])"
   ]
  },
  {
   "cell_type": "markdown",
   "id": "ec908b59",
   "metadata": {},
   "source": [
    "Out of ~2.3 million words, even the 100,000th word has only a count of 26. Let's truncate our word list here (feel free to choose a smaller threshold for the exercise), and remove all less frequent words i.e. replace with ''."
   ]
  },
  {
   "cell_type": "markdown",
   "id": "07b6a12e",
   "metadata": {},
   "source": [
    "### Model prototyping"
   ]
  },
  {
   "cell_type": "markdown",
   "id": "8f159ec4",
   "metadata": {},
   "source": [
    "From now on, we will work with just one batch of data or even just one data point i.e. one review. The idea is to put a model architecture together that we expect to be able to predict the ratings. In other words, we want an encoder that will encode a paragraph i.e. a sequence of sentences. There are multiple ways of doing this but we will focus on a model similar to code2seq."
   ]
  },
  {
   "cell_type": "code",
   "execution_count": 57,
   "id": "cdb78e01",
   "metadata": {},
   "outputs": [],
   "source": [
    "y, X = next(iter(dl_train)) #sample one batch of data"
   ]
  },
  {
   "cell_type": "code",
   "execution_count": null,
   "id": "3cefe904",
   "metadata": {},
   "outputs": [],
   "source": [
    "for s in X[idx].lower().replace(',', '').split('.'): #loop over sentences\n",
    "    sent = []\n",
    "    for w in s.split():\n",
    "        if w in valid_words:\n",
    "            "
   ]
  },
  {
   "cell_type": "code",
   "execution_count": 71,
   "id": "45704e5b",
   "metadata": {},
   "outputs": [
    {
     "data": {
      "text/plain": [
       "['errors',\n",
       " 'but',\n",
       " 'great',\n",
       " 'story',\n",
       " 'i',\n",
       " 'was',\n",
       " 'a',\n",
       " 'dissapointed',\n",
       " 'to',\n",
       " 'see',\n",
       " 'errors',\n",
       " 'on',\n",
       " 'the',\n",
       " 'back',\n",
       " 'cover',\n",
       " 'but',\n",
       " 'since',\n",
       " 'i',\n",
       " 'paid',\n",
       " 'for',\n",
       " 'the',\n",
       " 'book',\n",
       " 'i',\n",
       " 'read',\n",
       " 'it',\n",
       " 'anyway',\n",
       " 'i',\n",
       " 'have',\n",
       " 'to',\n",
       " 'say',\n",
       " 'i',\n",
       " 'love',\n",
       " 'it',\n",
       " 'i',\n",
       " \"couldn't\",\n",
       " 'put',\n",
       " 'it',\n",
       " 'down',\n",
       " 'i',\n",
       " 'read',\n",
       " 'the',\n",
       " 'whole',\n",
       " 'book',\n",
       " 'in',\n",
       " 'two',\n",
       " 'hours',\n",
       " 'i',\n",
       " 'say',\n",
       " 'buy',\n",
       " 'it',\n",
       " 'i',\n",
       " 'say',\n",
       " 'read',\n",
       " 'it',\n",
       " 'it',\n",
       " 'is',\n",
       " 'sad',\n",
       " 'but',\n",
       " 'it',\n",
       " 'gives',\n",
       " 'an',\n",
       " 'interesting',\n",
       " 'point',\n",
       " 'of',\n",
       " 'view',\n",
       " 'on',\n",
       " 'church',\n",
       " 'today',\n",
       " 'we',\n",
       " 'spend',\n",
       " 'too',\n",
       " 'much',\n",
       " 'time',\n",
       " 'looking',\n",
       " 'at',\n",
       " 'the',\n",
       " 'faults',\n",
       " 'of',\n",
       " 'others',\n",
       " 'i',\n",
       " 'also',\n",
       " 'enjoyed',\n",
       " 'beloved',\n",
       " 'sincerlyjaylynn',\n",
       " 'r']"
      ]
     },
     "execution_count": 71,
     "metadata": {},
     "output_type": "execute_result"
    }
   ],
   "source": [
    "[t for s in X[7].lower().replace(',', '').split('.') for t in s.split()]"
   ]
  },
  {
   "cell_type": "code",
   "execution_count": 64,
   "id": "bb7bef87",
   "metadata": {},
   "outputs": [
    {
     "data": {
      "text/plain": [
       "['errors but great story i was a dissapointed to see errors on the back cover but since i paid for the book i read it anyway',\n",
       " ' i have to say i love it',\n",
       " \" i couldn't put it down\",\n",
       " ' i read the whole book in two hours',\n",
       " ' i say buy it',\n",
       " ' i say read it',\n",
       " ' it is sad but it gives an interesting point of view on church today',\n",
       " ' we spend too much time looking at the faults of others',\n",
       " ' i also enjoyed beloved',\n",
       " 'sincerlyjaylynn r']"
      ]
     },
     "execution_count": 64,
     "metadata": {},
     "output_type": "execute_result"
    }
   ],
   "source": [
    "[s.replace(',', '') for s in X[idx].lower().split('.')]"
   ]
  },
  {
   "cell_type": "code",
   "execution_count": 60,
   "id": "ced1126c",
   "metadata": {},
   "outputs": [
    {
     "data": {
      "text/plain": [
       "[['errors',\n",
       "  'but',\n",
       "  'great',\n",
       "  'story',\n",
       "  'i',\n",
       "  'was',\n",
       "  'a',\n",
       "  'dissapointed',\n",
       "  'to',\n",
       "  'see',\n",
       "  'errors',\n",
       "  'on',\n",
       "  'the',\n",
       "  'back',\n",
       "  'cover',\n",
       "  'but',\n",
       "  'since',\n",
       "  'i',\n",
       "  'paid',\n",
       "  'for',\n",
       "  'the',\n",
       "  'book',\n",
       "  'i',\n",
       "  'read',\n",
       "  'it',\n",
       "  'anyway'],\n",
       " ['i', 'have', 'to', 'say', 'i', 'love', 'it'],\n",
       " ['i', \"couldn't\", 'put', 'it', 'down'],\n",
       " ['i', 'read', 'the', 'whole', 'book', 'in', 'two', 'hours'],\n",
       " ['i', 'say', 'buy', 'it'],\n",
       " ['i', 'say', 'read', 'it'],\n",
       " ['it',\n",
       "  'is',\n",
       "  'sad',\n",
       "  'but',\n",
       "  'it',\n",
       "  'gives',\n",
       "  'an',\n",
       "  'interesting',\n",
       "  'point',\n",
       "  'of',\n",
       "  'view',\n",
       "  'on',\n",
       "  'church',\n",
       "  'today'],\n",
       " ['we',\n",
       "  'spend',\n",
       "  'too',\n",
       "  'much',\n",
       "  'time',\n",
       "  'looking',\n",
       "  'at',\n",
       "  'the',\n",
       "  'faults',\n",
       "  'of',\n",
       "  'others'],\n",
       " ['i', 'also', 'enjoyed', 'beloved'],\n",
       " ['sincerlyjaylynn', 'r']]"
      ]
     },
     "execution_count": 60,
     "metadata": {},
     "output_type": "execute_result"
    }
   ],
   "source": [
    "idx = 7\n",
    "\n",
    "[s.strip().replace(',','').split() for s in X[idx].lower().split('.') if ]"
   ]
  },
  {
   "cell_type": "markdown",
   "id": "b846bd20",
   "metadata": {},
   "source": [
    "### Model prototyping"
   ]
  },
  {
   "cell_type": "code",
   "execution_count": null,
   "id": "8dbafc94",
   "metadata": {},
   "outputs": [],
   "source": []
  },
  {
   "cell_type": "code",
   "execution_count": 18,
   "id": "8147f779",
   "metadata": {},
   "outputs": [
    {
     "data": {
      "text/plain": [
       "['errors, but great story i was a dissapointed to see errors on the back cover, but since i paid for the book i read it anyway',\n",
       " 'i have to say i love it',\n",
       " \"i couldn't put it down\",\n",
       " 'i read the whole book in two hours',\n",
       " 'i say buy it',\n",
       " 'i say read it',\n",
       " 'it is sad, but it gives an interesting point of view on church today',\n",
       " 'we spend too much time looking at the faults of others',\n",
       " 'i also enjoyed beloved',\n",
       " 'sincerly,jaylynn r']"
      ]
     },
     "execution_count": 18,
     "metadata": {},
     "output_type": "execute_result"
    }
   ],
   "source": [
    "[s.strip() for s in X[7].lower()a.split('.')]"
   ]
  },
  {
   "cell_type": "code",
   "execution_count": null,
   "id": "75f8b751",
   "metadata": {},
   "outputs": [],
   "source": []
  }
 ],
 "metadata": {
  "kernelspec": {
   "display_name": "Python 3 (ipykernel)",
   "language": "python",
   "name": "python3"
  },
  "language_info": {
   "codemirror_mode": {
    "name": "ipython",
    "version": 3
   },
   "file_extension": ".py",
   "mimetype": "text/x-python",
   "name": "python",
   "nbconvert_exporter": "python",
   "pygments_lexer": "ipython3",
   "version": "3.9.10"
  },
  "toc": {
   "base_numbering": 1,
   "nav_menu": {},
   "number_sections": true,
   "sideBar": true,
   "skip_h1_title": false,
   "title_cell": "Table of Contents",
   "title_sidebar": "Contents",
   "toc_cell": false,
   "toc_position": {},
   "toc_section_display": true,
   "toc_window_display": false
  }
 },
 "nbformat": 4,
 "nbformat_minor": 5
}
