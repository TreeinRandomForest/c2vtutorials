{
 "cells": [
  {
   "cell_type": "markdown",
   "id": "a2615474",
   "metadata": {},
   "source": [
    "These tutorials are very brief and aim to get you started. They are not replacements for official documentation or for understanding the finer points of deep learning methods."
   ]
  },
  {
   "cell_type": "markdown",
   "id": "698f8c3f",
   "metadata": {},
   "source": [
    "Goal: The main aim of this notebook is to show how neural networks learn vector representations of input data\n",
    "\n",
    "We will be using a small, standard dataset of handwritten digits called MNIST. This notebook also introduces two new PyTorch concepts - Datasets and DataLoaders"
   ]
  },
  {
   "cell_type": "markdown",
   "id": "90f5dc2d",
   "metadata": {},
   "source": [
    "### Imports"
   ]
  },
  {
   "cell_type": "code",
   "execution_count": 1,
   "id": "0163b2bc",
   "metadata": {},
   "outputs": [],
   "source": [
    "import torch #pytorch\n",
    "import torch.nn as nn #nn submodule with convenience functions for defining neural nets\n",
    "import torch.optim as optim #optim submodule for gradient descent (don't worry about this for now)\n",
    "from torch.utils.data import Dataset, DataLoader #new imports\n",
    "import torch.nn.functional as F\n",
    "\n",
    "import torchvision\n",
    "from torchvision.datasets import MNIST\n",
    "from torchvision.transforms import PILToTensor, Normalize, Compose\n",
    "\n",
    "import numpy as np \n",
    "import matplotlib.pylab as plt\n",
    "import inspect\n",
    "%matplotlib inline"
   ]
  },
  {
   "cell_type": "code",
   "execution_count": 2,
   "id": "a2101320",
   "metadata": {},
   "outputs": [],
   "source": [
    "device = 'cuda:0' if torch.cuda.is_available() else \"cpu\""
   ]
  },
  {
   "cell_type": "markdown",
   "id": "8c8d5c5f",
   "metadata": {},
   "source": [
    "### MNIST dataset"
   ]
  },
  {
   "cell_type": "code",
   "execution_count": 3,
   "id": "e8660765",
   "metadata": {},
   "outputs": [],
   "source": [
    "#change download=True if you don't have the dataset locally\n",
    "train_ds = MNIST(root='../', train=True, download=False)\n",
    "test_ds = MNIST(root='../', train=False, download=False)"
   ]
  },
  {
   "cell_type": "code",
   "execution_count": 4,
   "id": "9fafbb5c",
   "metadata": {},
   "outputs": [
    {
     "name": "stdout",
     "output_type": "stream",
     "text": [
      "<class 'torchvision.datasets.mnist.MNIST'>\n"
     ]
    },
    {
     "data": {
      "text/plain": [
       "(torchvision.datasets.mnist.MNIST,\n",
       " torchvision.datasets.vision.VisionDataset,\n",
       " torch.utils.data.dataset.Dataset,\n",
       " typing.Generic,\n",
       " object)"
      ]
     },
     "execution_count": 4,
     "metadata": {},
     "output_type": "execute_result"
    }
   ],
   "source": [
    "#this is a class inherited from torch.utils.data.Dataset which implements two interfaces:\n",
    "# len(ds) i.e. a function __len__ that returns the number of records in the dataset\n",
    "# ds[i] i.e. a function __getitem__(int) that returns the ith record\n",
    "print(type(train_ds))\n",
    "\n",
    "inspect.getmro(MNIST) #print class hierarchy"
   ]
  },
  {
   "cell_type": "code",
   "execution_count": 5,
   "id": "56cac428",
   "metadata": {},
   "outputs": [
    {
     "name": "stdout",
     "output_type": "stream",
     "text": [
      "60000\n"
     ]
    }
   ],
   "source": [
    "print(len(train_ds))"
   ]
  },
  {
   "cell_type": "code",
   "execution_count": 6,
   "id": "f11e9a39",
   "metadata": {},
   "outputs": [
    {
     "name": "stdout",
     "output_type": "stream",
     "text": [
      "<class 'tuple'>\n",
      "2\n"
     ]
    }
   ],
   "source": [
    "print(type(train_ds[10]))\n",
    "print(len(train_ds[10]))"
   ]
  },
  {
   "cell_type": "code",
   "execution_count": 7,
   "id": "86a05ae0",
   "metadata": {},
   "outputs": [
    {
     "data": {
      "image/png": "[encoded data removed]",
      "text/plain": [
       "<PIL.Image.Image image mode=L size=28x28 at 0x7F0FA0F7ABE0>"
      ]
     },
     "execution_count": 7,
     "metadata": {},
     "output_type": "execute_result"
    }
   ],
   "source": [
    "train_ds[10][0] #input - 28 x 28 grayscale image"
   ]
  },
  {
   "cell_type": "code",
   "execution_count": 8,
   "id": "9bd75385",
   "metadata": {},
   "outputs": [
    {
     "data": {
      "text/plain": [
       "3"
      ]
     },
     "execution_count": 8,
     "metadata": {},
     "output_type": "execute_result"
    }
   ],
   "source": [
    "train_ds[10][1] #output - integer label"
   ]
  },
  {
   "cell_type": "markdown",
   "id": "81cd4436",
   "metadata": {},
   "source": [
    "Another useful abstraction is that of a DataLoader. Training neural networks is an iterative process. One initializes the network with some weights and repeats the following pattern in a loop:\n",
    "\n",
    "* \"Look\" at the data where \"Look\" = make predictions -> compared to labels using a loss function -> backpropagate the loss to compute derivatives\n",
    "\n",
    "* \"Adjust\" the weights where \"Adjust\" = apply additive correction to weights using some form of gradient descent\n",
    "\n",
    "Each execution of this loop is called an epoch. The number of epochs is technically as much as is required for the neural network to \"learn\" the task and generalize i.e. be able to predict on the non-training set. Less epochs will result in a network that has lower performance (accuracy etc.) and more epochs will lead to overfitting (memorizing the training set and not predicting well on the test set).\n",
    "\n",
    "The most straightforward implementation of the \"Look\" part would make predictions on the full dataset. In practice, this is not done. Rather, the dataset is broken up into disjoint (non-overlapping) batches of a fixed size (32 in the cell below). Of course, the last batch will, in general, not be of the same size. The \"Look\"-\"Adjust\" loop is now carried out on one batch at a time. One epoch is still defined to be one pass through the entire dataset but instead of doing the pass in one big computation, it's broken up into many smaller computations over each batch. There are two main advantages to this:\n",
    "\n",
    "(The following is just a mental dump so we should probably go over this more carefully in a call)\n",
    "\n",
    "* Since a batch is much smaller than the full dataset, the memory requirements are much lower. GPUs generally are limited in memory (compared to main memory) and models can be very large themselves (and sit on the GPU). So, paying the cost of transferring batches from main memory -> GPU memory is often a good tradeoff to enable training larger models. To be explicit, instead of transferring the full dataset into the GPU memory, we now only transfer the small batches. The tradeoff is that the full dataset would need to be transferred once but the batches need to be transferred once per epoch to the GPU (there are optimizations though).\n",
    "\n",
    "* There's an algorithmic advantage to batches too. From the model's perspective, the data is only useful for computing the gradient (derivative of the scalar loss with respect to each weight). Each example/record in the data is used to compute an estimate of the gradient and these estimates are averaged over the full dataset. Moving from full dataset -> batches is equivalent to saying that instead of computing the gradient from the full dataset, we are now computing an estimate of the gradient from a much smaller number of examples (just like instead of computing the average height of a population, we sample a subset of people and get a noisier estimate). Getting noisier estimates of the gradient is actually useful to escape from local minima during training.\n",
    "\n"
   ]
  },
  {
   "cell_type": "code",
   "execution_count": 9,
   "id": "a75a071a",
   "metadata": {},
   "outputs": [],
   "source": [
    "#don't want outputs to be images. want tensors. the argument to transform is applied to every input\n",
    "\n",
    "tfm = Compose([PILToTensor()])\n",
    "\n",
    "train_ds = MNIST(root='../', train=True, download=False, transform = tfm)\n",
    "test_ds = MNIST(root='../', train=False, download=False, transform = tfm)"
   ]
  },
  {
   "cell_type": "code",
   "execution_count": 10,
   "id": "fbad71bc",
   "metadata": {},
   "outputs": [],
   "source": [
    "#these dataloaders will break up each dataset into chunks of 32 images (and their labels)\n",
    "train_dl = DataLoader(train_ds, batch_size=32)\n",
    "test_dl = DataLoader(test_ds, batch_size=32)"
   ]
  },
  {
   "cell_type": "code",
   "execution_count": 11,
   "id": "41ae5056",
   "metadata": {},
   "outputs": [],
   "source": [
    "#look at one chunk\n",
    "X, y = next(iter(train_dl)) #get the next item from an iterator"
   ]
  },
  {
   "cell_type": "code",
   "execution_count": 12,
   "id": "f14b9652",
   "metadata": {},
   "outputs": [
    {
     "data": {
      "text/plain": [
       "torch.Size([32, 1, 28, 28])"
      ]
     },
     "execution_count": 12,
     "metadata": {},
     "output_type": "execute_result"
    }
   ],
   "source": [
    "X.shape #32 images with 1 channel (grayscale) and height=width=28"
   ]
  },
  {
   "cell_type": "code",
   "execution_count": 13,
   "id": "f6112862",
   "metadata": {},
   "outputs": [
    {
     "data": {
      "text/plain": [
       "torch.Size([32])"
      ]
     },
     "execution_count": 13,
     "metadata": {},
     "output_type": "execute_result"
    }
   ],
   "source": [
    "y.shape #32 labels"
   ]
  },
  {
   "cell_type": "code",
   "execution_count": 66,
   "id": "1f5594fb",
   "metadata": {},
   "outputs": [
    {
     "data": {
      "text/plain": [
       "<matplotlib.image.AxesImage at 0x7f0e77c26160>"
      ]
     },
     "execution_count": 66,
     "metadata": {},
     "output_type": "execute_result"
    },
    {
     "data": {
      "image/png": "[encoded data removed]",
      "text/plain": [
       "<Figure size 432x288 with 1 Axes>"
      ]
     },
     "metadata": {
      "needs_background": "light"
     },
     "output_type": "display_data"
    }
   ],
   "source": [
    "#sample images\n",
    "#X -> make_grid -> imshow\n",
    "plt.imshow(torchvision.utils.make_grid(X.cpu().float(), nrow=4, normalize=True).permute(1,2,0))"
   ]
  },
  {
   "cell_type": "markdown",
   "id": "9ccb6499",
   "metadata": {},
   "source": [
    "### Defining and training the neural network"
   ]
  },
  {
   "cell_type": "code",
   "execution_count": 15,
   "id": "09c22974",
   "metadata": {},
   "outputs": [],
   "source": [
    "#simple feedforward neural net (multilayer perceptron)\n",
    "net = nn.Sequential(nn.Flatten(start_dim=1, end_dim=3),\n",
    "                    nn.Linear(28*28, 128),\n",
    "                    nn.ReLU(),\n",
    "                    nn.Linear(128, 64),\n",
    "                    nn.ReLU(),\n",
    "                    nn.Linear(64, 10)) #10 output classes\n",
    "\n",
    "net = net.to(device)\n",
    "\n",
    "criterion = nn.CrossEntropyLoss() #multi-class classification loss (using logits)\n",
    "optimizer = optim.AdamW(net.parameters(), lr=1e-3)"
   ]
  },
  {
   "cell_type": "code",
   "execution_count": 16,
   "id": "7160c097",
   "metadata": {},
   "outputs": [],
   "source": [
    "X = X.to(device)\n",
    "y = y.to(device)"
   ]
  },
  {
   "cell_type": "code",
   "execution_count": 17,
   "id": "1edaff69",
   "metadata": {},
   "outputs": [
    {
     "data": {
      "text/plain": [
       "tensor(2.3063, device='cuda:0', grad_fn=<NllLossBackward0>)"
      ]
     },
     "execution_count": 17,
     "metadata": {},
     "output_type": "execute_result"
    }
   ],
   "source": [
    "criterion(net(X/255.), y)"
   ]
  },
  {
   "cell_type": "code",
   "execution_count": 18,
   "id": "c5317ebc",
   "metadata": {},
   "outputs": [
    {
     "data": {
      "text/plain": [
       "tensor([5, 0, 4, 1, 9, 2, 1, 3, 1, 4, 3, 5, 3, 6, 1, 7, 2, 8, 6, 9, 4, 0, 9, 1,\n",
       "        1, 2, 4, 3, 2, 7, 3, 8], device='cuda:0')"
      ]
     },
     "execution_count": 18,
     "metadata": {},
     "output_type": "execute_result"
    }
   ],
   "source": [
    "y"
   ]
  },
  {
   "cell_type": "code",
   "execution_count": 19,
   "id": "4ad53fc5",
   "metadata": {},
   "outputs": [],
   "source": [
    "def train(net, n_epochs, train_dl, test_dl, print_freq=100, device='cpu'): #n_epochs = N    \n",
    "    net.train() #don't worry about this for now\n",
    "    \n",
    "    for n in range(n_epochs):\n",
    "        #unlike tutorial 1, we now operate on each batch\n",
    "        \n",
    "        for i, (X,y) in enumerate(train_dl):            \n",
    "            \n",
    "            X = X.to(device)\n",
    "            y = y.to(device)\n",
    "            \n",
    "            pred = net(X.float()/255.) #make predictions on a *batch*\n",
    "        \n",
    "            loss = criterion(pred, y) #compute loss i.e. compare predictions to labels\n",
    "        \n",
    "            optimizer.zero_grad() #technical point: clear gradient buffers at each epoch\n",
    "            loss.backward() #compute derivatives of the loss with respect to the net's parameters\n",
    "            optimizer.step() #change parameters by doing gradient descent\n",
    "                \n",
    "        if n % print_freq == 0:\n",
    "            train_acc = validate(net, train_dl)\n",
    "            test_acc = validate(net, test_dl)\n",
    "            print(f'Training accuracy = {train_acc:.3f} Test accuracy = {test_acc:.3f}')\n",
    "            net.train()\n",
    "            \n",
    "    return net\n",
    "\n",
    "def validate(net, test_dl):\n",
    "    net.eval() #don't worry about this for now\n",
    "    n_correct = 0\n",
    "    n_total = 0\n",
    "    \n",
    "    with torch.no_grad(): #don't store gradients since we are not training here\n",
    "        for i, (X,y) in enumerate(test_dl):\n",
    "            X = X.to(device)\n",
    "            y = y.to(device)\n",
    "            \n",
    "            pred = net(X.float()/255.) #make predictions on a *batch*\n",
    "            \n",
    "            #don't want just probabilities. pick class with maximum probability\n",
    "            pred = torch.argmax(pred, dim=1)\n",
    "            \n",
    "            n_correct += (pred==y).sum()\n",
    "            n_total += pred.shape[0]\n",
    "            \n",
    "    return n_correct/n_total"
   ]
  },
  {
   "cell_type": "code",
   "execution_count": 20,
   "id": "47ed8bde",
   "metadata": {},
   "outputs": [
    {
     "name": "stdout",
     "output_type": "stream",
     "text": [
      "Training accuracy = 0.947 Test accuracy = 0.945\n",
      "Training accuracy = 0.992 Test accuracy = 0.977\n"
     ]
    }
   ],
   "source": [
    "net = train(net, 20, train_dl, test_dl, print_freq=10, device=device)"
   ]
  },
  {
   "cell_type": "markdown",
   "id": "29e1a96c",
   "metadata": {},
   "source": [
    "This network has pretty high test accuracy, albeit on a very simple dataset"
   ]
  },
  {
   "cell_type": "markdown",
   "id": "f0159605",
   "metadata": {},
   "source": [
    "### Vector Representations\n",
    "\n",
    "Once the network is trained and is accurate on the test set, we can thinking of it as a machine to map input data to a sequence of vectors. The finally vector is the prediction (the log probabilities of belonging to each class)."
   ]
  },
  {
   "cell_type": "code",
   "execution_count": 21,
   "id": "a8d0a471",
   "metadata": {},
   "outputs": [
    {
     "data": {
      "text/plain": [
       "Sequential(\n",
       "  (0): Flatten(start_dim=1, end_dim=3)\n",
       "  (1): Linear(in_features=784, out_features=128, bias=True)\n",
       "  (2): ReLU()\n",
       "  (3): Linear(in_features=128, out_features=64, bias=True)\n",
       "  (4): ReLU()\n",
       "  (5): Linear(in_features=64, out_features=10, bias=True)\n",
       ")"
      ]
     },
     "execution_count": 21,
     "metadata": {},
     "output_type": "execute_result"
    }
   ],
   "source": [
    "net"
   ]
  },
  {
   "cell_type": "markdown",
   "id": "75123191",
   "metadata": {},
   "source": [
    "We can refer to each layer by indexing: net[0], net[1] etc."
   ]
  },
  {
   "cell_type": "code",
   "execution_count": 22,
   "id": "9d6a800b",
   "metadata": {},
   "outputs": [
    {
     "data": {
      "text/plain": [
       "Linear(in_features=128, out_features=64, bias=True)"
      ]
     },
     "execution_count": 22,
     "metadata": {},
     "output_type": "execute_result"
    }
   ],
   "source": [
    "net[3]"
   ]
  },
  {
   "cell_type": "code",
   "execution_count": 23,
   "id": "07b062fb",
   "metadata": {},
   "outputs": [
    {
     "data": {
      "text/plain": [
       "ReLU()"
      ]
     },
     "execution_count": 23,
     "metadata": {},
     "output_type": "execute_result"
    }
   ],
   "source": [
    "net[4]"
   ]
  },
  {
   "cell_type": "markdown",
   "id": "29383053",
   "metadata": {},
   "source": [
    "To get the vector representations, called activations, we can register a function or a hook."
   ]
  },
  {
   "cell_type": "code",
   "execution_count": 24,
   "id": "f133b2e0",
   "metadata": {},
   "outputs": [],
   "source": [
    "activations = {'layer1': [], 'layer3': []}\n",
    "#activations = {}\n",
    "\n",
    "def get_hook(name):\n",
    "    def hook(model, input, output):\n",
    "        #activations[name] = output.detach() #overwrite any existing tensors in dictionary\n",
    "        activations[name].append(output.detach())\n",
    "        \n",
    "    return hook\n",
    "        \n",
    "a1 = net[1].register_forward_hook(get_hook('layer1')) #activations after layer 1\n",
    "a2 = net[3].register_forward_hook(get_hook('layer3')) #activations after layer 3"
   ]
  },
  {
   "cell_type": "code",
   "execution_count": 25,
   "id": "30b1342a",
   "metadata": {},
   "outputs": [
    {
     "data": {
      "text/plain": [
       "{'layer1': [], 'layer3': []}"
      ]
     },
     "execution_count": 25,
     "metadata": {},
     "output_type": "execute_result"
    }
   ],
   "source": [
    "activations"
   ]
  },
  {
   "cell_type": "code",
   "execution_count": 26,
   "id": "de422b7e",
   "metadata": {},
   "outputs": [],
   "source": [
    "def get_activations(net, dl, device):\n",
    "    with torch.no_grad():\n",
    "        for i, (X,y) in enumerate(dl):\n",
    "            X = X.to(device)\n",
    "            \n",
    "            _ = net(X/255.) #activations get stored"
   ]
  },
  {
   "cell_type": "code",
   "execution_count": 27,
   "id": "63b9150d",
   "metadata": {},
   "outputs": [],
   "source": [
    "get_activations(net, test_dl, device)"
   ]
  },
  {
   "cell_type": "code",
   "execution_count": 28,
   "id": "24409897",
   "metadata": {},
   "outputs": [],
   "source": [
    "#remove hooks\n",
    "a1.remove()\n",
    "a2.remove()"
   ]
  },
  {
   "cell_type": "code",
   "execution_count": 29,
   "id": "b20c4de5",
   "metadata": {},
   "outputs": [
    {
     "data": {
      "text/plain": [
       "10016"
      ]
     },
     "execution_count": 29,
     "metadata": {},
     "output_type": "execute_result"
    }
   ],
   "source": [
    "len(activations['layer1']) * 32"
   ]
  },
  {
   "cell_type": "code",
   "execution_count": 30,
   "id": "d03dfaf9",
   "metadata": {},
   "outputs": [
    {
     "data": {
      "text/plain": [
       "torch.Size([10000, 64])"
      ]
     },
     "execution_count": 30,
     "metadata": {},
     "output_type": "execute_result"
    }
   ],
   "source": [
    "torch.cat(activations['layer3']).shape"
   ]
  },
  {
   "cell_type": "code",
   "execution_count": 39,
   "id": "0d7a088f",
   "metadata": {},
   "outputs": [],
   "source": [
    "act = torch.cat(activations['layer3']).cpu()"
   ]
  },
  {
   "cell_type": "markdown",
   "id": "c04df6a6",
   "metadata": {},
   "source": [
    "### Find closest matches (cosine similarity)"
   ]
  },
  {
   "cell_type": "code",
   "execution_count": 40,
   "id": "a863bac3",
   "metadata": {},
   "outputs": [],
   "source": [
    "sim = F.cosine_similarity(act[:,None,:], act[None,:,:], dim=-1)"
   ]
  },
  {
   "cell_type": "code",
   "execution_count": 41,
   "id": "00a0aca2",
   "metadata": {},
   "outputs": [
    {
     "data": {
      "text/plain": [
       "torch.Size([10000, 10000])"
      ]
     },
     "execution_count": 41,
     "metadata": {},
     "output_type": "execute_result"
    }
   ],
   "source": [
    "sim.shape"
   ]
  },
  {
   "cell_type": "code",
   "execution_count": 60,
   "id": "0cc7bd1e",
   "metadata": {
    "scrolled": false
   },
   "outputs": [
    {
     "name": "stdout",
     "output_type": "stream",
     "text": [
      "label = 5\n"
     ]
    },
    {
     "data": {
      "image/png": "[encoded data removed]",
      "text/plain": [
       "<Figure size 432x288 with 1 Axes>"
      ]
     },
     "metadata": {
      "needs_background": "light"
     },
     "output_type": "display_data"
    },
    {
     "data": {
      "image/png": "[encoded data removed]",
      "text/plain": [
       "<Figure size 432x288 with 1 Axes>"
      ]
     },
     "metadata": {
      "needs_background": "light"
     },
     "output_type": "display_data"
    },
    {
     "data": {
      "image/png": "[encoded data removed]",
      "text/plain": [
       "<Figure size 432x288 with 1 Axes>"
      ]
     },
     "metadata": {
      "needs_background": "light"
     },
     "output_type": "display_data"
    },
    {
     "data": {
      "image/png": "[encoded data removed]",
      "text/plain": [
       "<Figure size 432x288 with 1 Axes>"
      ]
     },
     "metadata": {
      "needs_background": "light"
     },
     "output_type": "display_data"
    },
    {
     "data": {
      "image/png": "[encoded data removed]",
      "text/plain": [
       "<Figure size 432x288 with 1 Axes>"
      ]
     },
     "metadata": {
      "needs_background": "light"
     },
     "output_type": "display_data"
    },
    {
     "data": {
      "image/png": "[encoded data removed]",
      "text/plain": [
       "<Figure size 432x288 with 1 Axes>"
      ]
     },
     "metadata": {
      "needs_background": "light"
     },
     "output_type": "display_data"
    },
    {
     "data": {
      "image/png": "[encoded data removed]",
      "text/plain": [
       "<Figure size 432x288 with 1 Axes>"
      ]
     },
     "metadata": {
      "needs_background": "light"
     },
     "output_type": "display_data"
    },
    {
     "data": {
      "image/png": "[encoded data removed]",
      "text/plain": [
       "<Figure size 432x288 with 1 Axes>"
      ]
     },
     "metadata": {
      "needs_background": "light"
     },
     "output_type": "display_data"
    },
    {
     "data": {
      "image/png": "[encoded data removed]",
      "text/plain": [
       "<Figure size 432x288 with 1 Axes>"
      ]
     },
     "metadata": {
      "needs_background": "light"
     },
     "output_type": "display_data"
    },
    {
     "data": {
      "image/png": "[encoded data removed]",
      "text/plain": [
       "<Figure size 432x288 with 1 Axes>"
      ]
     },
     "metadata": {
      "needs_background": "light"
     },
     "output_type": "display_data"
    },
    {
     "data": {
      "image/png": "[encoded data removed]",
      "text/plain": [
       "<Figure size 432x288 with 1 Axes>"
      ]
     },
     "metadata": {
      "needs_background": "light"
     },
     "output_type": "display_data"
    }
   ],
   "source": [
    "idx = 8 #CHANGE THIS\n",
    "plt.imshow(test_ds[idx][0].squeeze(0).numpy())\n",
    "print(f'label = {test_ds[idx][1]}')\n",
    "\n",
    "sorted_matches = sim[idx,:].argsort(descending=True) #recall cos(vec1, vec2) ~ 1 if they are pointing in the same direction, 0 if orthogonal, -1 if pointing in opposite directions\n",
    "\n",
    "for match_idx in sorted_matches[0:10]: #plot first 10 matches\n",
    "    plt.figure()\n",
    "    plt.imshow(test_ds[match_idx][0].squeeze(0).numpy())"
   ]
  },
  {
   "cell_type": "code",
   "execution_count": null,
   "id": "aee90f0e",
   "metadata": {},
   "outputs": [],
   "source": []
  }
 ],
 "metadata": {
  "kernelspec": {
   "display_name": "Python 3 (ipykernel)",
   "language": "python",
   "name": "python3"
  },
  "language_info": {
   "codemirror_mode": {
    "name": "ipython",
    "version": 3
   },
   "file_extension": ".py",
   "mimetype": "text/x-python",
   "name": "python",
   "nbconvert_exporter": "python",
   "pygments_lexer": "ipython3",
   "version": "3.9.10"
  },
  "toc": {
   "base_numbering": 1,
   "nav_menu": {},
   "number_sections": true,
   "sideBar": true,
   "skip_h1_title": false,
   "title_cell": "Table of Contents",
   "title_sidebar": "Contents",
   "toc_cell": false,
   "toc_position": {},
   "toc_section_display": true,
   "toc_window_display": false
  }
 },
 "nbformat": 4,
 "nbformat_minor": 5
}
